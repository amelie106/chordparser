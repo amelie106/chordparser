{
  "nbformat": 4,
  "nbformat_minor": 0,
  "metadata": {
    "colab": {
      "name": "chordparser.ipynb",
      "provenance": [],
      "collapsed_sections": []
    },
    "kernelspec": {
      "name": "python3",
      "display_name": "Python 3"
    }
  },
  "cells": [
    {
      "cell_type": "markdown",
      "metadata": {
        "id": "mWOiB50Nt8mh",
        "colab_type": "text"
      },
      "source": [
        "# Introduction"
      ]
    },
    {
      "cell_type": "markdown",
      "metadata": {
        "id": "yoBFa-ri5H_O",
        "colab_type": "text"
      },
      "source": [
        "Welcome to chordparser's Colab notebook! chordparser serves to provide a framework for analysing chords. Chord notation can be parsed into Chords, which can then be analysed against other chords or the key of the song. This allows for harmonic analysis in chord sheets and helps musicians understand why and how chord progressions work."
      ]
    },
    {
      "cell_type": "markdown",
      "metadata": {
        "id": "enOYVNwbF8LV",
        "colab_type": "text"
      },
      "source": [
        "This notebook is written for two audiences:\n",
        "\n",
        "1. Non-programmers interested in what chordparser can do and who want to use it without any programming\n",
        "2. Programmers interested in getting started on using chordparser for their projects\n",
        "\n",
        "As such, the notebook serves as a **Showcase** and a **Tutorial**. It will show you what chordparser can do with a working example. \n",
        "\n",
        "People in Category 1 might want to ignore textboxes labelled \"*Code*\" and focus on the _code output_ which show what you can use chordparser for. You might also wish to refer to the Setup section (look for _**Try it out for yourself!**_) on how you can use this notebook for your own chord sheets with little hassle.\n",
        "\n",
        "Those in Category 2 might want to follow along the \"*Code*\"-labelled textboxes, which describe what we are doing in the _code cells_. By the end of it, you would have written a script that can parse and analyse a chord sheet."
      ]
    },
    {
      "cell_type": "markdown",
      "metadata": {
        "id": "4cH5N6gY5N6G",
        "colab_type": "text"
      },
      "source": [
        "Without further ado, let's go to the working example!\n",
        "\n",
        "_Check out the [Github page](https://github.com/titus-ong/chordparser) and the [full documentation](https://chordparser.readthedocs.io/en/latest/) for more information._"
      ]
    },
    {
      "cell_type": "markdown",
      "metadata": {
        "id": "d9OTbGytgkj9",
        "colab_type": "text"
      },
      "source": [
        "# Working example"
      ]
    },
    {
      "cell_type": "markdown",
      "metadata": {
        "id": "vB4dyPgFg5Eu",
        "colab_type": "text"
      },
      "source": [
        "In this example, we will be using chordparser to parse the chords in a song, transpose the chords, convert them to Roman numeral notation, and analyse the song's chord progression."
      ]
    },
    {
      "cell_type": "markdown",
      "metadata": {
        "id": "kyvY2xR2tclq",
        "colab_type": "text"
      },
      "source": [
        "## Setup"
      ]
    },
    {
      "cell_type": "markdown",
      "metadata": {
        "id": "kgA6yT6uG-IS",
        "colab_type": "text"
      },
      "source": [
        "*Code*: Before we start, we'll have to import the module and initialise the Parser. The Parser is the central factory of chordparser where you can create, manipulate and analyse musical objects. "
      ]
    },
    {
      "cell_type": "code",
      "metadata": {
        "id": "CPx_z_hAHdH1",
        "colab_type": "code",
        "colab": {}
      },
      "source": [
        "!pip install chordparser\n",
        "import chordparser\n",
        "cp = chordparser.Parser()"
      ],
      "execution_count": null,
      "outputs": []
    },
    {
      "cell_type": "markdown",
      "metadata": {
        "id": "eau0KJr0tgnk",
        "colab_type": "text"
      },
      "source": [
        "A sample chord sheet is provided in chordparser as ``Parser.sample`` (All I Want For Christmas Is You by Mariah Carey). Let's start by grabbing it from the package:\n",
        "\n",
        "_**Try it out for yourself!** Just follow these instructions:_\n",
        "\n",
        "1. *Save a copy of this notebook in your Drive (File -> save a copy in Drive)*\n",
        "2. *In the code cell below, uncomment the commented lines (remove the #'s from lines 2-6) and comment the code lines below them (put #'s in front of lines 7-8)*\n",
        "3. *In the following code cell, change the inputs \"G\", \"major\" to the key of your song (e.g. \"D\", \"minor\")*\n",
        "4. *Press Ctrl+F9 to run all cells and click on the \"Choose File\" button in the code cell below to upload your own file*\n",
        "\n",
        "*Note: the results will only display the first ten lines of the sheet. Remove '[:10]' in the code cells where you want to view the entire chord sheet.*"
      ]
    },
    {
      "cell_type": "code",
      "metadata": {
        "id": "MbapMfBcgwh6",
        "colab_type": "code",
        "colab": {
          "base_uri": "https://localhost:8080/",
          "height": 191
        },
        "outputId": "b19804d4-b704-4f39-a287-df5367a6cca8"
      },
      "source": [
        "import pprint\n",
        "# from google.colab import files\n",
        "# upload = files.upload()\n",
        "# val = list(upload.values())\n",
        "# sheet = val[0].decode('utf-8').replace('\\r', '')\n",
        "# print(sheet)\n",
        "sheet = cp.sample\n",
        "print(sheet[:420])  # show the first ten lines"
      ],
      "execution_count": null,
      "outputs": [
        {
          "output_type": "stream",
          "text": [
            "{t:All I Want For Christmas Is You}\n",
            "{key:G}\n",
            "{c: Source - https://ozbcoz.com/Songs/song.php?ID=4317}\n",
            "\n",
            "[G] I don't want a lot for Christmas there is just one thing I [G7] need\n",
            "[C] I don't care about the presents [Cm] underneath the Christmas tree\n",
            "[G] I just want you for my [Gaug] own\n",
            "[Em7] more than you could ever [Cm] know\n",
            "[G] Make my wish come [E7] true\n",
            "[Amadd9] All I want for [D7] Christmas is [G] you [Em7] [C] [D7]\n"
          ],
          "name": "stdout"
        }
      ]
    },
    {
      "cell_type": "markdown",
      "metadata": {
        "id": "N_Jyz52psbs0",
        "colab_type": "text"
      },
      "source": [
        "You can either specify the song's key (in this case, G major) or find it using regex. For simplicity's sake, let's specify the key and create the scale:"
      ]
    },
    {
      "cell_type": "code",
      "metadata": {
        "id": "DwDM0dXsuF09",
        "colab_type": "code",
        "colab": {
          "base_uri": "https://localhost:8080/",
          "height": 35
        },
        "outputId": "561ce138-7f82-4d77-cd05-8343c09d4591"
      },
      "source": [
        "# change the inputs to your song's key if you are using your own chord sheet\n",
        "key = cp.create_key(\"G\", \"major\")\n",
        "scale = cp.create_scale(key)\n",
        "scale"
      ],
      "execution_count": null,
      "outputs": [
        {
          "output_type": "execute_result",
          "data": {
            "text/plain": [
              "G major scale"
            ]
          },
          "metadata": {
            "tags": []
          },
          "execution_count": 3
        }
      ]
    },
    {
      "cell_type": "markdown",
      "metadata": {
        "id": "MQcnYVNUuguJ",
        "colab_type": "text"
      },
      "source": [
        "Next, let's separate the chord notations from the lyrics.\n",
        "\n",
        "*Code*: We'll store the notations and lyrics in separate lists so we can join them back anytime we want. It'll be nice to keep a similar format to the sheet, so we'll extract the notations and lyrics line-by-line using regex and store them in nested lists:"
      ]
    },
    {
      "cell_type": "code",
      "metadata": {
        "id": "c10oA92Vu2Q1",
        "colab_type": "code",
        "colab": {
          "base_uri": "https://localhost:8080/",
          "height": 416
        },
        "outputId": "03c0c9da-6fb2-4318-bb20-c63994617c22"
      },
      "source": [
        "import re\n",
        "\n",
        "# we'll define a function so we can re-use it later\n",
        "def get_notations_lyrics(sheet):\n",
        "    sheet_list = sheet.split('\\n')\n",
        "    notations_nlist = []\n",
        "    lyrics_nlist = []\n",
        "    for line in sheet_list:\n",
        "        notations = re.findall(r'(?:\\[(.+?)\\])', line)\n",
        "        notations_nlist.append(notations)\n",
        "        lyrics = re.split(r'\\[.+?\\]', line)\n",
        "        lyrics_nlist.append(lyrics)\n",
        "    return notations_nlist, lyrics_nlist\n",
        "\n",
        "notations_nlist, lyrics_nlist = get_notations_lyrics(sheet)\n",
        "print(\"Chords:\")\n",
        "pprint.pprint(notations_nlist[:10])\n",
        "print(\"\\nLyrics:\")\n",
        "pprint.pprint(lyrics_nlist[:10])"
      ],
      "execution_count": null,
      "outputs": [
        {
          "output_type": "stream",
          "text": [
            "Chords:\n",
            "[[],\n",
            " [],\n",
            " [],\n",
            " [],\n",
            " ['G', 'G7'],\n",
            " ['C', 'Cm'],\n",
            " ['G', 'Gaug'],\n",
            " ['Em7', 'Cm'],\n",
            " ['G', 'E7'],\n",
            " ['Amadd9', 'D7', 'G', 'Em7', 'C', 'D7']]\n",
            "\n",
            "Lyrics:\n",
            "[['{t:All I Want For Christmas Is You}'],\n",
            " ['{key:G}'],\n",
            " ['{c: Source - https://ozbcoz.com/Songs/song.php?ID=4317}'],\n",
            " [''],\n",
            " ['', \" I don't want a lot for Christmas there is just one thing I \", ' need'],\n",
            " ['', \" I don't care about the presents \", ' underneath the Christmas tree'],\n",
            " ['', ' I just want you for my ', ' own'],\n",
            " ['', ' more than you could ever ', ' know'],\n",
            " ['', ' Make my wish come ', ' true'],\n",
            " ['', ' All I want for ', ' Christmas is ', ' you ', ' ', ' ', '']]\n"
          ],
          "name": "stdout"
        }
      ]
    },
    {
      "cell_type": "markdown",
      "metadata": {
        "id": "yAIiDh65q9TN",
        "colab_type": "text"
      },
      "source": [
        "Finally, we have to convert these chord notations into Chords for chordparser to use them.\n",
        "\n",
        "*Code*: Chords are musical objects that have tons of useful functions which we'll see later. With the help of ``Parser.create_chord(notation)``, it's a simple matter of iterating over the list of notations and plugging them into the Parser to get Chords:"
      ]
    },
    {
      "cell_type": "code",
      "metadata": {
        "id": "Y_6u4ZctrvM_",
        "colab_type": "code",
        "colab": {
          "base_uri": "https://localhost:8080/",
          "height": 191
        },
        "outputId": "3c3babc1-408a-47d1-8184-d24b8ecc7056"
      },
      "source": [
        "def get_chords_lyrics(sheet):\n",
        "    notations_nlist, lyrics_nlist = get_notations_lyrics(sheet)\n",
        "    chords_nlist = []\n",
        "    for line in notations_nlist:\n",
        "        chords_nlist.append([])\n",
        "        for notation in line:\n",
        "            chords_nlist[-1].append(cp.create_chord(notation))\n",
        "    return chords_nlist, lyrics_nlist\n",
        "\n",
        "chords_nlist, lyrics_nlist = get_chords_lyrics(sheet)\n",
        "pprint.pprint(chords_nlist[:10])"
      ],
      "execution_count": null,
      "outputs": [
        {
          "output_type": "stream",
          "text": [
            "[[],\n",
            " [],\n",
            " [],\n",
            " [],\n",
            " [G chord, G7 chord],\n",
            " [C chord, Cm chord],\n",
            " [G chord, Gaug chord],\n",
            " [Em7 chord, Cm chord],\n",
            " [G chord, E7 chord],\n",
            " [Amadd9 chord, D7 chord, G chord, Em7 chord, C chord, D7 chord]]\n"
          ],
          "name": "stdout"
        }
      ]
    },
    {
      "cell_type": "markdown",
      "metadata": {
        "id": "zOl-OKNIynR7",
        "colab_type": "text"
      },
      "source": [
        "To get the original sheet back, we have to merge the notations and lyrics together.\n",
        "\n",
        "*Code*: We are going to merge the two nested lists together line-by-line. We've gotten the new Chords list which can display proper notation when printed, so let's try merging it with the lyrics nested list:"
      ]
    },
    {
      "cell_type": "code",
      "metadata": {
        "id": "9N__om1my0Uf",
        "colab_type": "code",
        "colab": {
          "base_uri": "https://localhost:8080/",
          "height": 191
        },
        "outputId": "a5840540-1d28-41df-dc36-7057614736f7"
      },
      "source": [
        "def merge(lyrics, chords) -> str:\n",
        "    merged = \"\"\n",
        "    for i in range(len(lyrics)):\n",
        "        line = \"\".join(\n",
        "            x + \"[\" + str(y) + \"]\"  # str(Chord) for nice printing of Chords\n",
        "            for x, y in zip(lyrics[i], chords[i])\n",
        "        )\n",
        "        # zip iterates over smallest list, and lyrics has one more element than\n",
        "        # chords per line\n",
        "        merged += line + lyrics[i][-1] + \"\\n\"\n",
        "    return merged[:-1]\n",
        "\n",
        "print(merge(lyrics_nlist[:10], chords_nlist[:10]))  # show first ten lines"
      ],
      "execution_count": null,
      "outputs": [
        {
          "output_type": "stream",
          "text": [
            "{t:All I Want For Christmas Is You}\n",
            "{key:G}\n",
            "{c: Source - https://ozbcoz.com/Songs/song.php?ID=4317}\n",
            "\n",
            "[G] I don't want a lot for Christmas there is just one thing I [G7] need\n",
            "[C] I don't care about the presents [Cm] underneath the Christmas tree\n",
            "[G] I just want you for my [Gaug] own\n",
            "[Em7] more than you could ever [Cm] know\n",
            "[G] Make my wish come [E7] true\n",
            "[Amadd9] All I want for [D7] Christmas is [G] you [Em7] [C] [D7]\n"
          ],
          "name": "stdout"
        }
      ]
    },
    {
      "cell_type": "markdown",
      "metadata": {
        "id": "1N4qVn5JstSQ",
        "colab_type": "text"
      },
      "source": [
        "That's it! With these lists and functions in hand, we are now ready to rock. "
      ]
    },
    {
      "cell_type": "markdown",
      "metadata": {
        "id": "kTbolH-qwbZB",
        "colab_type": "text"
      },
      "source": [
        "## Transposing"
      ]
    },
    {
      "cell_type": "markdown",
      "metadata": {
        "id": "rGUXbxAZwgER",
        "colab_type": "text"
      },
      "source": [
        "Let's start off with transposing the song into a different key. It's currently in the key of G major, so let's try transposing it to C♯ major. \n",
        "\n",
        "*Code*: To do so, we're going to use ``Parser.get_tone_letter(*notes)`` to get the correct semitone and letter intervals between G and C♯ so that the transposition is accurate. Then, with the help of ``Chord.transpose(semitones, letters)``, we can easily transpose the Chords correctly by iterating over the Chords nested list:"
      ]
    },
    {
      "cell_type": "code",
      "metadata": {
        "id": "BT_OM6Ql-Duj",
        "colab_type": "code",
        "colab": {
          "base_uri": "https://localhost:8080/",
          "height": 191
        },
        "outputId": "42356b82-2146-45a4-abd1-5843a88f5a28"
      },
      "source": [
        "new_key = cp.create_key(\"C#\")\n",
        "((semitones, letters),) = cp.get_tone_letter(key.root, new_key.root)\n",
        "# semitones = 6, letters = 3\n",
        "\n",
        "chords_nlist, lyrics_nlist = get_chords_lyrics(sheet)\n",
        "\n",
        "for line in chords_nlist:\n",
        "    for chord in line:\n",
        "        chord.transpose(semitones, letters)\n",
        "\n",
        "# remove [:10] to view the whole song\n",
        "print(merge(lyrics_nlist[:10], chords_nlist[:10]))"
      ],
      "execution_count": null,
      "outputs": [
        {
          "output_type": "stream",
          "text": [
            "{t:All I Want For Christmas Is You}\n",
            "{key:G}\n",
            "{c: Source - https://ozbcoz.com/Songs/song.php?ID=4317}\n",
            "\n",
            "[C♯] I don't want a lot for Christmas there is just one thing I [C♯7] need\n",
            "[F♯] I don't care about the presents [F♯m] underneath the Christmas tree\n",
            "[C♯] I just want you for my [C♯aug] own\n",
            "[A♯m7] more than you could ever [F♯m] know\n",
            "[C♯] Make my wish come [A♯7] true\n",
            "[D♯madd9] All I want for [G♯7] Christmas is [C♯] you [A♯m7] [F♯] [G♯7]\n"
          ],
          "name": "stdout"
        }
      ]
    },
    {
      "cell_type": "markdown",
      "metadata": {
        "id": "pa7zGiLV-V_Z",
        "colab_type": "text"
      },
      "source": [
        "Simple, isn't it? Now, let's transpose it up two semitones to E♭.\n",
        "\n",
        "*Code*: This time, we are going to use the alternate transposing method ``transpose_simple(semitones[, use_flats=False])``*, which is useful when you just want a 'quick and dirty' transposition.\n",
        "\n",
        "*_The use_flats flag uses flats when transposing to black keys. We would transpose to D♯ if we leave it at False._"
      ]
    },
    {
      "cell_type": "code",
      "metadata": {
        "id": "2NdH_jVI-q0v",
        "colab_type": "code",
        "colab": {
          "base_uri": "https://localhost:8080/",
          "height": 191
        },
        "outputId": "6d4b91ac-5e69-434a-a9a2-bd1824c7e43f"
      },
      "source": [
        "for line in chords_nlist:\n",
        "\n",
        "    for chord in line:\n",
        "        # transpose using flats on black keys\n",
        "        chord.transpose_simple(2, use_flats=True)\n",
        "\n",
        "# remove [:10] to view the whole song\n",
        "print(merge(lyrics_nlist[:10], chords_nlist[:10]))"
      ],
      "execution_count": null,
      "outputs": [
        {
          "output_type": "stream",
          "text": [
            "{t:All I Want For Christmas Is You}\n",
            "{key:G}\n",
            "{c: Source - https://ozbcoz.com/Songs/song.php?ID=4317}\n",
            "\n",
            "[E♭] I don't want a lot for Christmas there is just one thing I [E♭7] need\n",
            "[A♭] I don't care about the presents [A♭m] underneath the Christmas tree\n",
            "[E♭] I just want you for my [E♭aug] own\n",
            "[Cm7] more than you could ever [A♭m] know\n",
            "[E♭] Make my wish come [C7] true\n",
            "[Fmadd9] All I want for [B♭7] Christmas is [E♭] you [Cm7] [A♭] [B♭7]\n"
          ],
          "name": "stdout"
        }
      ]
    },
    {
      "cell_type": "markdown",
      "metadata": {
        "id": "46XAuWLo_txd",
        "colab_type": "text"
      },
      "source": [
        "chordparser's transpose methods account for slash chords as well, so you don't have to worry about those."
      ]
    },
    {
      "cell_type": "markdown",
      "metadata": {
        "id": "xixiVqFyAFlg",
        "colab_type": "text"
      },
      "source": [
        "## Converting to roman numeral notation"
      ]
    },
    {
      "cell_type": "markdown",
      "metadata": {
        "id": "6FJ1xaDFOTtT",
        "colab_type": "text"
      },
      "source": [
        "chordparser can convert Chords to their roman numeral notation. Let's put together a new chord sheet that uses that notation:\n",
        "\n",
        "*Code*: This is done using ``Parser.to_roman(chord, scale_key)``, where scale_key can either be the scale or key of the song. Let's iterate over the Chords nested list and try it out:"
      ]
    },
    {
      "cell_type": "code",
      "metadata": {
        "id": "QJyEsgEtbgn0",
        "colab_type": "code",
        "colab": {
          "base_uri": "https://localhost:8080/",
          "height": 191
        },
        "outputId": "13a73dfd-aeac-4814-fa33-944e55db379d"
      },
      "source": [
        "chords_nlist, lyrics_nlist = get_chords_lyrics(sheet)\n",
        "\n",
        "roman_nlist = []\n",
        "for line in chords_nlist:\n",
        "    new_line = []\n",
        "    for chord in line:\n",
        "        new_line.append(cp.to_roman(chord, scale))\n",
        "    roman_nlist.append(new_line)\n",
        "\n",
        "# remove [:10] to view the whole song\n",
        "print(merge(lyrics_nlist[:10], roman_nlist[:10]))"
      ],
      "execution_count": null,
      "outputs": [
        {
          "output_type": "stream",
          "text": [
            "{t:All I Want For Christmas Is You}\n",
            "{key:G}\n",
            "{c: Source - https://ozbcoz.com/Songs/song.php?ID=4317}\n",
            "\n",
            "[I] I don't want a lot for Christmas there is just one thing I [I7] need\n",
            "[IV] I don't care about the presents [iv] underneath the Christmas tree\n",
            "[I] I just want you for my [I+] own\n",
            "[vi7] more than you could ever [iv] know\n",
            "[I] Make my wish come [VI7] true\n",
            "[ii] All I want for [V7] Christmas is [I] you [vi7] [IV] [V7]\n"
          ],
          "name": "stdout"
        }
      ]
    },
    {
      "cell_type": "markdown",
      "metadata": {
        "id": "wihTcsiMdBb0",
        "colab_type": "text"
      },
      "source": [
        "And that's it! This makes studying the song's chord progression much easier."
      ]
    },
    {
      "cell_type": "markdown",
      "metadata": {
        "id": "wa6FmdbUcd_Z",
        "colab_type": "text"
      },
      "source": [
        "## Chord progression analysis"
      ]
    },
    {
      "cell_type": "markdown",
      "metadata": {
        "id": "J9JtRDu-irUx",
        "colab_type": "text"
      },
      "source": [
        "chordparser allows you to perform analysis on a chord relative to other chords/scales. Using this, we can extend it to analysing the chord progression of a song."
      ]
    },
    {
      "cell_type": "markdown",
      "metadata": {
        "id": "A4iMmaBOisaf",
        "colab_type": "text"
      },
      "source": [
        "### Diatonic chords"
      ]
    },
    {
      "cell_type": "markdown",
      "metadata": {
        "id": "7MTirtWv0L74",
        "colab_type": "text"
      },
      "source": [
        "*Definition*: chords built from the notes of a key.\n",
        "\n",
        "*Example*: in the key of C major, the D minor chord is diatonic because its notes (D, F, A) are in the notes of C major (C, D, E, F, G, A, B).\n",
        "\n",
        "---"
      ]
    },
    {
      "cell_type": "markdown",
      "metadata": {
        "id": "eQjY6x5Aeg49",
        "colab_type": "text"
      },
      "source": [
        "Let's start off with some basic analysis: checking whether chords are diatonic. We'll flag non-diatonic chords with \"!D\" in the chord sheet.\n",
        "\n",
        "*Code*: ``Parser.analyse_diatonic(chord, scale)`` returns a nested list* of the roman notation, mode and submode the chord is diatonic to, or an empty list if the chord is not diatonic. We'll use this to flag the non-diatonic chords as we iterate over the Chords nested list:\n",
        "\n",
        "_*There might be multiple results if you use the flag ``incl_submode=True`` to check against the different types of minor keys._"
      ]
    },
    {
      "cell_type": "code",
      "metadata": {
        "id": "3iujWJagfIgt",
        "colab_type": "code",
        "colab": {
          "base_uri": "https://localhost:8080/",
          "height": 191
        },
        "outputId": "831bdb2c-b3f1-42fe-ebc9-d03119b9ea9b"
      },
      "source": [
        "chords_nlist, lyrics_nlist = get_chords_lyrics(sheet)\n",
        "\n",
        "diatonic_nlist = []\n",
        "for line in chords_nlist:\n",
        "    new_line = []\n",
        "    for chord in line:\n",
        "        results = cp.analyse_diatonic(chord, scale)\n",
        "\n",
        "        if results:  # diatonic\n",
        "            result = results[0][0]  # just show roman notation\n",
        "        else:\n",
        "            result = str(cp.to_roman(chord, scale)) + \", !D\"\n",
        "\n",
        "        new_line.append(result)\n",
        "    diatonic_nlist.append(new_line)\n",
        "\n",
        "# remove [:10] to view the whole song\n",
        "print(merge(lyrics_nlist[:10], diatonic_nlist[:10]))"
      ],
      "execution_count": null,
      "outputs": [
        {
          "output_type": "stream",
          "text": [
            "{t:All I Want For Christmas Is You}\n",
            "{key:G}\n",
            "{c: Source - https://ozbcoz.com/Songs/song.php?ID=4317}\n",
            "\n",
            "[I] I don't want a lot for Christmas there is just one thing I [I7] need\n",
            "[IV] I don't care about the presents [iv, !D] underneath the Christmas tree\n",
            "[I] I just want you for my [I+, !D] own\n",
            "[vi7] more than you could ever [iv, !D] know\n",
            "[I] Make my wish come [VI7, !D] true\n",
            "[ii] All I want for [V7] Christmas is [I] you [vi7] [IV] [V7]\n"
          ],
          "name": "stdout"
        }
      ]
    },
    {
      "cell_type": "markdown",
      "metadata": {
        "id": "zA8nzhvWmuBe",
        "colab_type": "text"
      },
      "source": [
        "Most of the chords are unsurprisingly diatonic, though there are a few that are not. Let's see if we can find out more about them by checking if they are borrowed chords."
      ]
    },
    {
      "cell_type": "markdown",
      "metadata": {
        "id": "32VZHFdZgt5F",
        "colab_type": "text"
      },
      "source": [
        "### Borrowed chords (mode mixture)"
      ]
    },
    {
      "cell_type": "markdown",
      "metadata": {
        "id": "m2FA6iq90OZo",
        "colab_type": "text"
      },
      "source": [
        "*Definition*: chords taken from a key with the same root note but in a different mode, providing harmonic variety.\n",
        "\n",
        "*Example*: an F minor chord in a song with the key of C major can be seen as a borrowed iv chord from C minor.\n",
        "\n",
        "---"
      ]
    },
    {
      "cell_type": "markdown",
      "metadata": {
        "id": "uIChdAd0ix3W",
        "colab_type": "text"
      },
      "source": [
        "This time, we are checking for borrowed chords. We'll label them with the mode they are borrowed from.\n",
        "\n",
        "*Code*: To check for borrowed chords, we use ``Parser.analyse_all(chord, scale)`` which checks a chord against all the possible modes. As there will be multiple results (e.g. the F minor chord in the example could also have been borrowed from C phrygian), we'll just grab the first result from ``analyse_all`` which tries to give the most likely mode. \n",
        "\n",
        "Let's again iterate over the Chords nested list to show the mode a Chord belongs to if it is borrowed:"
      ]
    },
    {
      "cell_type": "code",
      "metadata": {
        "id": "rdmVJjjrkplW",
        "colab_type": "code",
        "colab": {
          "base_uri": "https://localhost:8080/",
          "height": 191
        },
        "outputId": "41e83d6e-e575-41de-a091-05f5a0d29d35"
      },
      "source": [
        "chords_nlist, lyrics_nlist = get_chords_lyrics(sheet)\n",
        "\n",
        "borrowed_nlist = []\n",
        "for line in chords_nlist:\n",
        "    new_line = []\n",
        "    for chord in line:\n",
        "        results = cp.analyse_all(chord, scale)\n",
        "\n",
        "        if results and results[0][1] != scale.key.mode:  # borrowed chord\n",
        "            # show which mode it is borrowed from\n",
        "            result = str(results[0][0]) + \", \" + results[0][1]\n",
        "        else:\n",
        "            result = str(cp.to_roman(chord, scale))\n",
        "\n",
        "        new_line.append(result)\n",
        "    borrowed_nlist.append(new_line)\n",
        "\n",
        "# remove [:10] to view the whole song\n",
        "print(merge(lyrics_nlist[:10], borrowed_nlist[:10]))"
      ],
      "execution_count": null,
      "outputs": [
        {
          "output_type": "stream",
          "text": [
            "{t:All I Want For Christmas Is You}\n",
            "{key:G}\n",
            "{c: Source - https://ozbcoz.com/Songs/song.php?ID=4317}\n",
            "\n",
            "[I] I don't want a lot for Christmas there is just one thing I [I7] need\n",
            "[IV] I don't care about the presents [iv, minor] underneath the Christmas tree\n",
            "[I] I just want you for my [I+] own\n",
            "[vi7] more than you could ever [iv, minor] know\n",
            "[I] Make my wish come [VI7] true\n",
            "[ii] All I want for [V7] Christmas is [I] you [vi7] [IV] [V7]\n"
          ],
          "name": "stdout"
        }
      ]
    },
    {
      "cell_type": "markdown",
      "metadata": {
        "id": "6cKGVeXxnOoD",
        "colab_type": "text"
      },
      "source": [
        "It turns out that the iv chords in the second and fourth lines of the verse are actually borrowed from the minor key. The second line is especially tasteful when IV changes to iv. \n",
        "\n",
        "Lastly, let's try to find out more about how the chords work by checking for any secondary chords."
      ]
    },
    {
      "cell_type": "markdown",
      "metadata": {
        "id": "BRGdlDwWo8Hu",
        "colab_type": "text"
      },
      "source": [
        "### Secondary chords"
      ]
    },
    {
      "cell_type": "markdown",
      "metadata": {
        "id": "PdbJP_Vj0QqX",
        "colab_type": "text"
      },
      "source": [
        "*Definition*: chords which have the function of resolving to the next chord (which is *not* the tonic), effectively tonicizing the next chord.\n",
        "\n",
        "*Example*: a common chord progression is the V-I authentic cadence, where the dominant resolves to the tonic. In the key of C major, a D major chord can act as a *secondary dominant* chord if it resolves to a G major chord in a V-I movement, which then resolves to C major in another V-I movement. This is denoted as V/V-V-I.\n",
        "\n",
        "---"
      ]
    },
    {
      "cell_type": "markdown",
      "metadata": {
        "id": "FC79MOQ92sSw",
        "colab_type": "text"
      },
      "source": [
        "The most common secondary chords are secondary dominant and secondary leading tone chords, so let's check for those. We'll again label them with their secondary chord notation (e.g. V/V).\n",
        "\n",
        "*Code*: When we check for secondary chords, we have to be keep the next chord in context. Hence, we'll check for secondary chords by going through the chord list *backwards* and compare the earlier chord against the later chord.\n",
        "``Parser.analyse_secondary(prev_chord, next_chord, scale)`` will help us to identify the roman numeral notation of any secondary dominant or leading tone chords*.\n",
        "\n",
        "You should know the drill by now - time to iterate over the Chords nested list:\n",
        "\n",
        "_*Use the flag ``limit=False`` to check for all types of secondary chords._"
      ]
    },
    {
      "cell_type": "code",
      "metadata": {
        "id": "-Pvqn_tZtuVt",
        "colab_type": "code",
        "colab": {
          "base_uri": "https://localhost:8080/",
          "height": 191
        },
        "outputId": "ba13cdc8-73d2-4e87-c05d-ebd1f19f7f33"
      },
      "source": [
        "chords_nlist, lyrics_nlist = get_chords_lyrics(sheet)\n",
        "\n",
        "reverse_nlist = chords_nlist[::-1]\n",
        "secondary_nlist = []\n",
        "next_chord = cp.create_diatonic(scale, 1)  # use tonic as starting basis\n",
        "\n",
        "for line in reverse_nlist:\n",
        "    reverse_line = line[::-1]\n",
        "    new_line = []\n",
        "\n",
        "    for prev_chord in reverse_line:\n",
        "        roman = cp.to_roman(prev_chord, scale)\n",
        "        result = cp.analyse_secondary(\n",
        "            prev_chord, next_chord, scale, incl_submodes=True  # account for harmonic minor\n",
        "        )\n",
        "        if result:\n",
        "            roman = str(roman) + \" (\" + result + \")\"\n",
        "        new_line.append(roman)\n",
        "        next_chord = prev_chord\n",
        "        \n",
        "    secondary_nlist.append(new_line[::-1])\n",
        "secondary_nlist = secondary_nlist[::-1]\n",
        "\n",
        "# remove [:10] to view the whole song\n",
        "print(merge(lyrics_nlist[:10], secondary_nlist[:10]))"
      ],
      "execution_count": null,
      "outputs": [
        {
          "output_type": "stream",
          "text": [
            "{t:All I Want For Christmas Is You}\n",
            "{key:G}\n",
            "{c: Source - https://ozbcoz.com/Songs/song.php?ID=4317}\n",
            "\n",
            "[I] I don't want a lot for Christmas there is just one thing I [I7 (V7/IV)] need\n",
            "[IV] I don't care about the presents [iv] underneath the Christmas tree\n",
            "[I] I just want you for my [I+] own\n",
            "[vi7] more than you could ever [iv] know\n",
            "[I] Make my wish come [VI7 (V7/ii)] true\n",
            "[ii] All I want for [V7] Christmas is [I] you [vi7] [IV] [V7]\n"
          ],
          "name": "stdout"
        }
      ]
    },
    {
      "cell_type": "markdown",
      "metadata": {
        "id": "nbKFm9KLVhv0",
        "colab_type": "text"
      },
      "source": [
        "Here, we see two instances of secondary dominant chords. The I7 in \"there is just one thing I need\" could have been mistaken as just a tonic chord with a dominant seventh, but it actually has the function of leading to the IV chord. *(This is usually confirmed by the I7 being a dominant chord to emphasize its dominant function, instead of being a I chord.)*\n",
        "\n",
        "It also turns out that the non-diatonic VI7 chord in \"Make my wish come true\" acts as a secondary dominant to lead to the ii chord, making it V7/ii."
      ]
    },
    {
      "cell_type": "markdown",
      "metadata": {
        "id": "wF6YWOkz7sz1",
        "colab_type": "text"
      },
      "source": [
        "---\n",
        "And there you have it - with the help of chordparser, the chord progression of this song is demystified a little. Out of the 4 non-diatonic chords, we've started to see why 3 of them were placed in the song and even had a bonus tidbit on the I7 chord. Why not make a copy of this notebook and try it out for yourself?\n",
        "\n",
        "*To end on a satisfying note: the last non-diatonic chord is actually using a chromatic nonchord tone. Notice how the chord before is I (I, III, V) and the chord after is iv (iv, I, III). The augmented fifth acts as a step between V and iv.*"
      ]
    },
    {
      "cell_type": "markdown",
      "metadata": {
        "id": "VU86QyqhkWVR",
        "colab_type": "text"
      },
      "source": [
        "# Ending notes"
      ]
    },
    {
      "cell_type": "markdown",
      "metadata": {
        "id": "Rcw_Lt5Ljmoz",
        "colab_type": "text"
      },
      "source": [
        "This working example of understanding chord progressions is one possibility of using chordparser. If you have any problems or suggestions on how it can be improved or used, I would greatly appreciate it if you could create an issue on the [Github Issue Tracker](https://github.com/titus-ong/chordparser/issues)."
      ]
    }
  ]
}